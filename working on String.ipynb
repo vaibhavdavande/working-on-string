{
 "cells": [
  {
   "cell_type": "code",
   "execution_count": 17,
   "metadata": {},
   "outputs": [
    {
     "name": "stdout",
     "output_type": "stream",
     "text": [
      "GOT\n",
      "MH\n",
      "AKH\n"
     ]
    }
   ],
   "source": [
    "#Displaying abbrivated form of the given list\n",
    "b = ['Game of Thrones', 'Money Hiest', 'Ani kay have']\n",
    "for i in b:\n",
    "        for j in i.split():\n",
    "            print(j[0].capitalize(), end= '')\n",
    "        print()\n",
    "    "
   ]
  },
  {
   "cell_type": "code",
   "execution_count": 19,
   "metadata": {},
   "outputs": [
    {
     "name": "stdout",
     "output_type": "stream",
     "text": [
      "EFS\n",
      "YT\n",
      "IYE\n"
     ]
    }
   ],
   "source": [
    "#Displaying last letters of string abbrivated form of the given list\n",
    "b = ['Game of Thrones', 'Money Hiest', 'Ani kay have']\n",
    "for i in b:\n",
    "        for j in i.split():\n",
    "            print(j[-1].capitalize(), end= '')\n",
    "        print()"
   ]
  },
  {
   "cell_type": "code",
   "execution_count": null,
   "metadata": {},
   "outputs": [],
   "source": []
  }
 ],
 "metadata": {
  "kernelspec": {
   "display_name": "Python 3",
   "language": "python",
   "name": "python3"
  },
  "language_info": {
   "codemirror_mode": {
    "name": "ipython",
    "version": 3
   },
   "file_extension": ".py",
   "mimetype": "text/x-python",
   "name": "python",
   "nbconvert_exporter": "python",
   "pygments_lexer": "ipython3",
   "version": "3.7.4"
  }
 },
 "nbformat": 4,
 "nbformat_minor": 2
}
